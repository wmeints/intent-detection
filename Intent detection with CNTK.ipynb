{
 "cells": [
  {
   "cell_type": "code",
   "execution_count": 5,
   "metadata": {
    "collapsed": true
   },
   "outputs": [],
   "source": [
    "import pandas as pd"
   ]
  },
  {
   "cell_type": "markdown",
   "metadata": {},
   "source": [
    "# Step 1: Load the data\n",
    "The first step in the process of making an intent detection model is to load up the data.\n",
    "We have a CSV file containing samples of things a person might say and which intent it belongs to.\n",
    "\n",
    "You can read data files like the CSV file using pandas. Below you can find the code to do so."
   ]
  },
  {
   "cell_type": "code",
   "execution_count": 6,
   "metadata": {
    "collapsed": true
   },
   "outputs": [],
   "source": [
    "df = pd.read_csv('data.csv')"
   ]
  },
  {
   "cell_type": "markdown",
   "metadata": {},
   "source": [
    "## Dataset summary\n",
    "Let's take a look at the dataset and see what it looks like.\n",
    "We're primarily interested in the amount of samples available and the class balance."
   ]
  },
  {
   "cell_type": "markdown",
   "metadata": {},
   "source": [
    "### What's in the dataset\n",
    "The dataset contains sentences a user might say and the intent that it should be classified to.\n",
    "To get a sense of what's in the dataset, let's first print the `head()`."
   ]
  },
  {
   "cell_type": "code",
   "execution_count": 7,
   "metadata": {},
   "outputs": [
    {
     "data": {
      "text/html": [
       "<div>\n",
       "<style>\n",
       "    .dataframe thead tr:only-child th {\n",
       "        text-align: right;\n",
       "    }\n",
       "\n",
       "    .dataframe thead th {\n",
       "        text-align: left;\n",
       "    }\n",
       "\n",
       "    .dataframe tbody tr th {\n",
       "        vertical-align: top;\n",
       "    }\n",
       "</style>\n",
       "<table border=\"1\" class=\"dataframe\">\n",
       "  <thead>\n",
       "    <tr style=\"text-align: right;\">\n",
       "      <th></th>\n",
       "      <th>text</th>\n",
       "      <th>intent</th>\n",
       "    </tr>\n",
       "  </thead>\n",
       "  <tbody>\n",
       "    <tr>\n",
       "      <th>0</th>\n",
       "      <td>I need to hear the song Aspro Mavro from Bill ...</td>\n",
       "      <td>PlayMusic</td>\n",
       "    </tr>\n",
       "    <tr>\n",
       "      <th>1</th>\n",
       "      <td>play Yo Ho from the new york pops on Youtube</td>\n",
       "      <td>PlayMusic</td>\n",
       "    </tr>\n",
       "    <tr>\n",
       "      <th>2</th>\n",
       "      <td>Play some seventies music by Janne Puurtinen o...</td>\n",
       "      <td>PlayMusic</td>\n",
       "    </tr>\n",
       "    <tr>\n",
       "      <th>3</th>\n",
       "      <td>play the Música Da Série De Filmes O Hobbit al...</td>\n",
       "      <td>PlayMusic</td>\n",
       "    </tr>\n",
       "    <tr>\n",
       "      <th>4</th>\n",
       "      <td>Play Magic Sam from the thirties</td>\n",
       "      <td>PlayMusic</td>\n",
       "    </tr>\n",
       "  </tbody>\n",
       "</table>\n",
       "</div>"
      ],
      "text/plain": [
       "                                                text     intent\n",
       "0  I need to hear the song Aspro Mavro from Bill ...  PlayMusic\n",
       "1       play Yo Ho from the new york pops on Youtube  PlayMusic\n",
       "2  Play some seventies music by Janne Puurtinen o...  PlayMusic\n",
       "3  play the Música Da Série De Filmes O Hobbit al...  PlayMusic\n",
       "4                   Play Magic Sam from the thirties  PlayMusic"
      ]
     },
     "execution_count": 7,
     "metadata": {},
     "output_type": "execute_result"
    }
   ],
   "source": [
    "df.head()"
   ]
  },
  {
   "cell_type": "markdown",
   "metadata": {},
   "source": [
    "### Class balance\n",
    "The value counts function shows you the number of records per unique value in a column.\n",
    "As you can see below, we have about the same number of samples for each intent."
   ]
  },
  {
   "cell_type": "code",
   "execution_count": 6,
   "metadata": {},
   "outputs": [
    {
     "data": {
      "text/plain": [
       "PlayMusic               2000\n",
       "GetWeather              2000\n",
       "BookRestaurant          1973\n",
       "SearchScreeningEvent    1959\n",
       "RateBook                1956\n",
       "SearchCreativeWork      1954\n",
       "Name: intent, dtype: int64"
      ]
     },
     "execution_count": 6,
     "metadata": {},
     "output_type": "execute_result"
    }
   ],
   "source": [
    "df['intent'].value_counts()"
   ]
  },
  {
   "cell_type": "markdown",
   "metadata": {},
   "source": [
    "### Total number of records\n",
    "Let's take a look at the total number of records in the dataset.\n",
    "This should be the sum of all the classes."
   ]
  },
  {
   "cell_type": "code",
   "execution_count": 8,
   "metadata": {},
   "outputs": [
    {
     "name": "stdout",
     "output_type": "stream",
     "text": [
      "<class 'pandas.core.frame.DataFrame'>\n",
      "RangeIndex: 11842 entries, 0 to 11841\n",
      "Data columns (total 2 columns):\n",
      "text      11842 non-null object\n",
      "intent    11842 non-null object\n",
      "dtypes: object(2)\n",
      "memory usage: 185.1+ KB\n"
     ]
    }
   ],
   "source": [
    "df.info()"
   ]
  },
  {
   "cell_type": "markdown",
   "metadata": {},
   "source": [
    "The info method shows the total number of entries and the number of non-null entries.\n",
    "They look the same, so we don't have any records without an intent label. \n",
    "\n",
    "Great, it looks like the data is usable for our purposes."
   ]
  },
  {
   "cell_type": "markdown",
   "metadata": {},
   "source": [
    "# Step 2: Exploratory data analysis\n",
    "The next step is to perform uses exploratory data analysis techniques to get a sense of the data.\n",
    "Later on we will be building a model that classifies sequences. This has some specific requirements:\n",
    "\n",
    " * The length of the sequences\n",
    " * The distribution of the word counts\n"
   ]
  },
  {
   "cell_type": "markdown",
   "metadata": {},
   "source": [
    "### Obtaining information about sequence length\n",
    "The problem with recurrent neural networks is that they are sensitive to the length of the sequences used to train the model.\n",
    "If there's a large difference in length, you will end up with a network that doesn't train well.\n",
    "\n",
    "Ideally the sentences should be equal in length or at least close enough.\n",
    "\n",
    "To check if this is the case we need to visualize the distribution of the sequence lengths."
   ]
  },
  {
   "cell_type": "code",
   "execution_count": 90,
   "metadata": {},
   "outputs": [],
   "source": [
    "from nltk import word_tokenize\n",
    "import matplotlib.pyplot as plt"
   ]
  },
  {
   "cell_type": "markdown",
   "metadata": {},
   "source": [
    "Let's tokenize the sentences first and calculate the length of each resulting sequence of tokens."
   ]
  },
  {
   "cell_type": "code",
   "execution_count": 41,
   "metadata": {},
   "outputs": [],
   "source": [
    "tokenized_sentences = [word_tokenize(s.lower()) for s in df['text'].tolist()]\n",
    "sequence_lengths = [len(s) for s in tokenized_sentences]"
   ]
  },
  {
   "cell_type": "markdown",
   "metadata": {},
   "source": [
    "The visualization is easily done using matplotlib. The Y-axis displays the number of sequences of a given length. The X-axis displays the length of the sequences.\n",
    "\n",
    "Notice that we group together the sequence lengths in buckets. So some resolution is lost. \n",
    "But it does give a good idea of what we're dealing with."
   ]
  },
  {
   "cell_type": "code",
   "execution_count": 42,
   "metadata": {},
   "outputs": [
    {
     "data": {
      "image/png": "[encoded data removed]",
      "text/plain": [
       "<matplotlib.figure.Figure at 0x1aee3820a90>"
      ]
     },
     "metadata": {},
     "output_type": "display_data"
    }
   ],
   "source": [
    "plt.hist(sequence_lengths)\n",
    "\n",
    "plt.xlabel('sequence length')\n",
    "plt.ylabel('occurrences')\n",
    "\n",
    "plt.show()"
   ]
  },
  {
   "cell_type": "markdown",
   "metadata": {},
   "source": [
    "### Obtaining information about the word distribution\n",
    "The second problem that we have with our neural network is that the number of different words also influences the performance of the network. Typically you don't want any words that are generic in nature. But since we're classifying sequences you need enough information to maintain the relationship between different words in the sentence that are identifying for an intent.\n",
    "\n",
    "The code below builds a list of word counts from all the tokenized sentences in the dataset.\n",
    "This involves two loops, the first one iterates over all sentences, the second loop iterates over \n",
    "the words in each sentence. \n",
    "\n",
    "We build a dictionary that we than convert into a new dataframe. "
   ]
  },
  {
   "cell_type": "code",
   "execution_count": 87,
   "metadata": {
    "collapsed": true
   },
   "outputs": [],
   "source": [
    "word_counts = {\n",
    "    \n",
    "}\n",
    "\n",
    "for s in tokenized_sentences:\n",
    "    for w in s:\n",
    "        if not w in word_counts:\n",
    "            word_counts[w] = 1\n",
    "        else:\n",
    "            word_counts[w] = word_counts[w] + 1\n",
    "            \n",
    "df_wordcount = pd.DataFrame.from_dict(word_counts, orient='index')\n",
    "df_wordcount.columns = ['count']"
   ]
  },
  {
   "cell_type": "markdown",
   "metadata": {},
   "source": [
    "To get a sense of the data, we are interested in frequently occurring terms first. This information is most easily obtained by sorting the data frame."
   ]
  },
  {
   "cell_type": "code",
   "execution_count": 89,
   "metadata": {},
   "outputs": [
    {
     "data": {
      "text/html": [
       "<div>\n",
       "<style>\n",
       "    .dataframe thead tr:only-child th {\n",
       "        text-align: right;\n",
       "    }\n",
       "\n",
       "    .dataframe thead th {\n",
       "        text-align: left;\n",
       "    }\n",
       "\n",
       "    .dataframe tbody tr th {\n",
       "        vertical-align: top;\n",
       "    }\n",
       "</style>\n",
       "<table border=\"1\" class=\"dataframe\">\n",
       "  <thead>\n",
       "    <tr style=\"text-align: right;\">\n",
       "      <th></th>\n",
       "      <th>count</th>\n",
       "    </tr>\n",
       "  </thead>\n",
       "  <tbody>\n",
       "    <tr>\n",
       "      <th>the</th>\n",
       "      <td>6723</td>\n",
       "    </tr>\n",
       "    <tr>\n",
       "      <th>a</th>\n",
       "      <td>4215</td>\n",
       "    </tr>\n",
       "    <tr>\n",
       "      <th>in</th>\n",
       "      <td>3275</td>\n",
       "    </tr>\n",
       "    <tr>\n",
       "      <th>for</th>\n",
       "      <td>3008</td>\n",
       "    </tr>\n",
       "    <tr>\n",
       "      <th>of</th>\n",
       "      <td>2451</td>\n",
       "    </tr>\n",
       "    <tr>\n",
       "      <th>i</th>\n",
       "      <td>2101</td>\n",
       "    </tr>\n",
       "    <tr>\n",
       "      <th>at</th>\n",
       "      <td>2097</td>\n",
       "    </tr>\n",
       "    <tr>\n",
       "      <th>.</th>\n",
       "      <td>2026</td>\n",
       "    </tr>\n",
       "    <tr>\n",
       "      <th>play</th>\n",
       "      <td>1904</td>\n",
       "    </tr>\n",
       "    <tr>\n",
       "      <th>to</th>\n",
       "      <td>1725</td>\n",
       "    </tr>\n",
       "    <tr>\n",
       "      <th>book</th>\n",
       "      <td>1607</td>\n",
       "    </tr>\n",
       "    <tr>\n",
       "      <th>is</th>\n",
       "      <td>1514</td>\n",
       "    </tr>\n",
       "    <tr>\n",
       "      <th>what</th>\n",
       "      <td>1486</td>\n",
       "    </tr>\n",
       "    <tr>\n",
       "      <th>find</th>\n",
       "      <td>1400</td>\n",
       "    </tr>\n",
       "    <tr>\n",
       "      <th>me</th>\n",
       "      <td>1231</td>\n",
       "    </tr>\n",
       "    <tr>\n",
       "      <th>?</th>\n",
       "      <td>1162</td>\n",
       "    </tr>\n",
       "    <tr>\n",
       "      <th>6</th>\n",
       "      <td>1130</td>\n",
       "    </tr>\n",
       "    <tr>\n",
       "      <th>movie</th>\n",
       "      <td>1111</td>\n",
       "    </tr>\n",
       "    <tr>\n",
       "      <th>from</th>\n",
       "      <td>1054</td>\n",
       "    </tr>\n",
       "    <tr>\n",
       "      <th>on</th>\n",
       "      <td>1041</td>\n",
       "    </tr>\n",
       "  </tbody>\n",
       "</table>\n",
       "</div>"
      ],
      "text/plain": [
       "       count\n",
       "the     6723\n",
       "a       4215\n",
       "in      3275\n",
       "for     3008\n",
       "of      2451\n",
       "i       2101\n",
       "at      2097\n",
       ".       2026\n",
       "play    1904\n",
       "to      1725\n",
       "book    1607\n",
       "is      1514\n",
       "what    1486\n",
       "find    1400\n",
       "me      1231\n",
       "?       1162\n",
       "6       1130\n",
       "movie   1111\n",
       "from    1054\n",
       "on      1041"
      ]
     },
     "execution_count": 89,
     "metadata": {},
     "output_type": "execute_result"
    }
   ],
   "source": [
    "df_wordcount.sort_values(by=['count'], ascending=False).head(20)"
   ]
  },
  {
   "cell_type": "markdown",
   "metadata": {},
   "source": [
    "Looks like we need to remove stopwords from the dataset. For now, we're done exploring the data.\n",
    "Let's build a model based on the data."
   ]
  },
  {
   "cell_type": "markdown",
   "metadata": {},
   "source": [
    "# Step 4: Build a model\n",
    "To detect the intents we're going to build a recurrent model. We're going to build our model using Microsoft Cognitive Toolkit an open source deep learning framework from Microsoft."
   ]
  },
  {
   "cell_type": "code",
   "execution_count": 131,
   "metadata": {},
   "outputs": [],
   "source": [
    "import cntk as C\n",
    "from cntk.layers import Embedding, Sequential, LSTM, Dense, Recurrence\n",
    "from cntk import Trainer"
   ]
  },
  {
   "cell_type": "markdown",
   "metadata": {},
   "source": [
    "The input size of the neural network is equal to the number of unique words in the dataset.\n",
    "The output size of the neural network should be equal to the number of intents we understand.\n",
    "\n",
    "We record these values below, so that they are easily accessed."
   ]
  },
  {
   "cell_type": "code",
   "execution_count": 110,
   "metadata": {
    "collapsed": true
   },
   "outputs": [],
   "source": [
    "input_size = len(df_wordcount.index)"
   ]
  },
  {
   "cell_type": "code",
   "execution_count": 105,
   "metadata": {},
   "outputs": [],
   "source": [
    "num_intents = len(df['intent'].astype('category').unique())"
   ]
  },
  {
   "cell_type": "markdown",
   "metadata": {},
   "source": [
    "The model is made up out of an embedding layer, a recurrent layer of one LSTM unit and a dense layer for classification.\n",
    "This is expressed as a function call to different layer types. Notice that we include a `C.sequence.last` layer. This ensures that the input of the `Dense` layer is the output of the last iteration for the `LSTM` layer."
   ]
  },
  {
   "cell_type": "code",
   "execution_count": 124,
   "metadata": {},
   "outputs": [],
   "source": [
    "model = Sequential([Embedding(128), Recurrence(LSTM(128,64)),C.sequence.last, Dense(num_intents)])"
   ]
  },
  {
   "cell_type": "markdown",
   "metadata": {},
   "source": [
    "To train the network we need to provide two input variables. The features variable a sequence variable where the dimension of each element is equal to the number of unique words in the dataset. The labels variable is a regular variable which dimension is equal to the number of intents we can detect."
   ]
  },
  {
   "cell_type": "code",
   "execution_count": 125,
   "metadata": {
    "collapsed": true
   },
   "outputs": [],
   "source": [
    "features = C.sequence.input_variable(input_size)\n",
    "labels = C.input_variable(num_intents)"
   ]
  },
  {
   "cell_type": "markdown",
   "metadata": {},
   "source": [
    "To use the model we need to convert it into a function. The model we created is a graph without an input attached to it. \n",
    "Of course if you want to train a model, you need to attach an input to it. This is done by invoking the model with the input placeholder."
   ]
  },
  {
   "cell_type": "markdown",
   "metadata": {},
   "source": [
    "# Step 4: Encode data\n",
    "The neural network we've created only understands vectors of numbers. But we don't have any numbers in our data.\n",
    "The fix is to encode the data into numbers."
   ]
  },
  {
   "cell_type": "markdown",
   "metadata": {},
   "source": [
    "### Encoding sentences into sequences of features\n",
    "First we encode each sentence into a sequence of one-hot vectors.\n",
    "For this we need to make a lookup table that maps a word to an index in the vector.\n",
    "Then we encode all the values using this lookup table."
   ]
  },
  {
   "cell_type": "code",
   "execution_count": 155,
   "metadata": {},
   "outputs": [],
   "source": [
    "import numpy as np"
   ]
  },
  {
   "cell_type": "code",
   "execution_count": 176,
   "metadata": {},
   "outputs": [],
   "source": [
    "unique_words = [w for w,c in word_counts.items()]\n",
    "word2idx = dict(zip(unique_words, range(0,len(unique_words))))\n",
    "idx2word = dict(zip(range(0, len(unique_words)), unique_words))"
   ]
  },
  {
   "cell_type": "code",
   "execution_count": 157,
   "metadata": {
    "collapsed": true
   },
   "outputs": [],
   "source": [
    "def one_hot(index, size):\n",
    "    v = np.zeros(size)\n",
    "    v[index] = 1.0\n",
    "    \n",
    "    return v"
   ]
  },
  {
   "cell_type": "code",
   "execution_count": 184,
   "metadata": {
    "collapsed": true
   },
   "outputs": [],
   "source": [
    "def encode_sequence(sequence):\n",
    "    encoded_list = [one_hot(word2idx[w], len(unique_words)) for w in sequence]\n",
    "    return np.asarray(encoded_list)"
   ]
  },
  {
   "cell_type": "code",
   "execution_count": 186,
   "metadata": {},
   "outputs": [],
   "source": [
    "feature_data = [encode_sequence(s) for s in tokenized_sentences]\n",
    "feature_data = np.asarray(feature_data)"
   ]
  },
  {
   "cell_type": "markdown",
   "metadata": {},
   "source": [
    "### Encoding labels into vectors\n",
    "The labels can be encoded into a one-hot vectors as well. But with a much simpler trick.\n",
    "You can ask pandas to create dummy columns. What happens is the following.\n",
    "\n",
    " * A new column is created for every unique value in the columns that you want dummies for\n",
    " * All records are converted, by assigning a value to the dummy column that matches the value in the dummified column."
   ]
  },
  {
   "cell_type": "code",
   "execution_count": 174,
   "metadata": {},
   "outputs": [],
   "source": [
    "df_labels = pd.get_dummies(df[['intent']])\n",
    "idx2label = df_labels.columns"
   ]
  },
  {
   "cell_type": "code",
   "execution_count": 175,
   "metadata": {},
   "outputs": [],
   "source": [
    "label_data = df_labels.values"
   ]
  },
  {
   "cell_type": "markdown",
   "metadata": {},
   "source": [
    "# Step 5: Train the model\n",
    "Once you have a model setup, you can start to train it.\n",
    "First we need to configure the model as a mathmatical function that we can optmize.\n",
    "Next we need to make sure that we can feed input into the model in the right shape. This means we need to encode the sequences and labels into correct format."
   ]
  },
  {
   "cell_type": "code",
   "execution_count": 126,
   "metadata": {
    "collapsed": true
   },
   "outputs": [],
   "source": [
    "z = model(features)"
   ]
  },
  {
   "cell_type": "markdown",
   "metadata": {},
   "source": [
    "We're going to train the model to correctly classify an input sequence. For this you need to define a loss function. The loss function calculates the distance between the actual classification and the one we expected to get as output. \n",
    "\n",
    "Ultimately, we want the output of this function to be as close as possible to zero. "
   ]
  },
  {
   "cell_type": "code",
   "execution_count": 127,
   "metadata": {},
   "outputs": [],
   "source": [
    "loss = C.cross_entropy_with_softmax(z, labels)"
   ]
  },
  {
   "cell_type": "markdown",
   "metadata": {},
   "source": [
    "A loss value that is close to zero, doesn't mean our model actually works. To measure the performance we need to define a metric. The metric we're going to use is the classification error metric."
   ]
  },
  {
   "cell_type": "code",
   "execution_count": 128,
   "metadata": {
    "collapsed": true
   },
   "outputs": [],
   "source": [
    "metric = C.classification_error(z, labels)"
   ]
  },
  {
   "cell_type": "markdown",
   "metadata": {},
   "source": [
    "The model is trained using a trainer object. This object needs to have the model function, a loss, a metric and an optmizer it should use for optimizing the parameters of the model."
   ]
  },
  {
   "cell_type": "code",
   "execution_count": 134,
   "metadata": {},
   "outputs": [],
   "source": [
    "trainer = Trainer(z, (loss,metric), C.sgd(z.parameters, 0.001))"
   ]
  },
  {
   "cell_type": "markdown",
   "metadata": {},
   "source": [
    "Finally, we run all the values through the model to train it. We do this in mini batches to speed up the process."
   ]
  },
  {
   "cell_type": "code",
   "execution_count": 179,
   "metadata": {},
   "outputs": [
    {
     "ename": "ValueError",
     "evalue": "non-dict argument (list) is not supported for nodes with more than one input",
     "output_type": "error",
     "traceback": [
      "\u001b[1;31m---------------------------------------------------------------------------\u001b[0m",
      "\u001b[1;31mValueError\u001b[0m                                Traceback (most recent call last)",
      "\u001b[1;32m<ipython-input-179-89a3845fd956>\u001b[0m in \u001b[0;36m<module>\u001b[1;34m()\u001b[0m\n\u001b[0;32m      3\u001b[0m     \u001b[0mlabels_batch\u001b[0m \u001b[1;33m=\u001b[0m \u001b[0mlabel_data\u001b[0m\u001b[1;33m[\u001b[0m\u001b[0mminibatch_offset\u001b[0m\u001b[1;33m:\u001b[0m\u001b[0mminibatch_offset\u001b[0m\u001b[1;33m+\u001b[0m\u001b[1;36m32\u001b[0m\u001b[1;33m]\u001b[0m\u001b[1;33m\u001b[0m\u001b[0m\n\u001b[0;32m      4\u001b[0m \u001b[1;33m\u001b[0m\u001b[0m\n\u001b[1;32m----> 5\u001b[1;33m     \u001b[0mtrainer\u001b[0m\u001b[1;33m.\u001b[0m\u001b[0mtrain_minibatch\u001b[0m\u001b[1;33m(\u001b[0m\u001b[0mfeatures_batch\u001b[0m\u001b[1;33m,\u001b[0m\u001b[0mlabels_batch\u001b[0m\u001b[1;33m)\u001b[0m\u001b[1;33m\u001b[0m\u001b[0m\n\u001b[0m",
      "\u001b[1;32mC:\\Anaconda3\\lib\\site-packages\\cntk\\train\\trainer.py\u001b[0m in \u001b[0;36mtrain_minibatch\u001b[1;34m(self, arguments, outputs, device, is_sweep_end)\u001b[0m\n\u001b[0;32m    147\u001b[0m                 \u001b[0mall_args\u001b[0m \u001b[1;33m|=\u001b[0m \u001b[0mset\u001b[0m\u001b[1;33m(\u001b[0m\u001b[0mself\u001b[0m\u001b[1;33m.\u001b[0m\u001b[0mevaluation_function\u001b[0m\u001b[1;33m.\u001b[0m\u001b[0marguments\u001b[0m\u001b[1;33m)\u001b[0m\u001b[1;33m\u001b[0m\u001b[0m\n\u001b[0;32m    148\u001b[0m             arguments = sanitize_var_map(tuple(all_args), arguments,\n\u001b[1;32m--> 149\u001b[1;33m                 extract_values_from_minibatch_data = False, device=device)\n\u001b[0m\u001b[0;32m    150\u001b[0m \u001b[1;33m\u001b[0m\u001b[0m\n\u001b[0;32m    151\u001b[0m         \u001b[0mcontains_minibatch_data\u001b[0m \u001b[1;33m=\u001b[0m \u001b[1;32mFalse\u001b[0m\u001b[1;33m\u001b[0m\u001b[0m\n",
      "\u001b[1;32mC:\\Anaconda3\\lib\\site-packages\\cntk\\internal\\sanitize.py\u001b[0m in \u001b[0;36msanitize_var_map\u001b[1;34m(op_arguments, arguments, precision, device, extract_values_from_minibatch_data)\u001b[0m\n\u001b[0;32m    383\u001b[0m         \u001b[1;32melse\u001b[0m\u001b[1;33m:\u001b[0m\u001b[1;33m\u001b[0m\u001b[0m\n\u001b[0;32m    384\u001b[0m             raise ValueError(\n\u001b[1;32m--> 385\u001b[1;33m                 'non-dict argument (%s) is not supported for nodes with more than one input' % type(arguments).__name__)\n\u001b[0m\u001b[0;32m    386\u001b[0m \u001b[1;33m\u001b[0m\u001b[0m\n\u001b[0;32m    387\u001b[0m     \u001b[1;32mif\u001b[0m \u001b[0mprecision\u001b[0m \u001b[1;32mis\u001b[0m \u001b[1;32mnot\u001b[0m \u001b[1;32mNone\u001b[0m\u001b[1;33m:\u001b[0m\u001b[1;33m\u001b[0m\u001b[0m\n",
      "\u001b[1;31mValueError\u001b[0m: non-dict argument (list) is not supported for nodes with more than one input"
     ]
    }
   ],
   "source": [
    "for minibatch_offset in range(0, len(feature_data), 32):\n",
    "    features_batch = feature_data[minibatch_offset:minibatch_offset+32]\n",
    "    labels_batch = label_data[minibatch_offset:minibatch_offset+32]\n",
    "    \n",
    "    trainer.train_minibatch(features_batch,labels_batch)"
   ]
  }
 ],
 "metadata": {
  "kernelspec": {
   "display_name": "Python 3",
   "language": "python",
   "name": "python3"
  },
  "language_info": {
   "codemirror_mode": {
    "name": "ipython",
    "version": 3
   },
   "file_extension": ".py",
   "mimetype": "text/x-python",
   "name": "python",
   "nbconvert_exporter": "python",
   "pygments_lexer": "ipython3",
   "version": "3.6.3"
  }
 },
 "nbformat": 4,
 "nbformat_minor": 2
}
